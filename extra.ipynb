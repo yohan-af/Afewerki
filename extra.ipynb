{
 "cells": [
  {
   "cell_type": "code",
   "execution_count": null,
   "metadata": {
    "collapsed": true
   },
   "outputs": [],
   "source": [
    "self.screen = pygame.display.set_mode(self.settings.screen_width, self.settings.screen_height)"
   ]
  },
  {
   "cell_type": "code",
   "execution_count": null,
   "outputs": [],
   "source": [],
   "metadata": {
    "collapsed": false
   }
  },
  {
   "cell_type": "code",
   "execution_count": null,
   "outputs": [],
   "source": [
    "self.screen.fill(self.settings.bg_color)"
   ],
   "metadata": {
    "collapsed": false
   }
  },
  {
   "cell_type": "code",
   "execution_count": null,
   "outputs": [],
   "source": [
    "    def _check_events(self):\n",
    "        \"\"\"Respond to keypresses and mouse events.\"\"\"\n",
    "        for event in pygame.event.get():\n",
    "            if event.type == pygame.QUIT:\n",
    "                sys.exit()\n",
    "\n",
    "\n",
    "            # Redraw the screen during each pass through loop\n",
    "            self.screen.fill(self.bg_color)\n",
    "\n",
    "            # Make the most recently drawn screen visible\n",
    "            pygame.display.flip()\n"
   ],
   "metadata": {
    "collapsed": false
   }
  },
  {
   "cell_type": "code",
   "execution_count": null,
   "outputs": [],
   "source": [
    "            # boundries!!!\n",
    "            for bullet in self.bullets.copy():\n",
    "                if bullet.rect.left <=0:\n",
    "                    self.bullets.remove(bullet)\n",
    "            print(len(self.bullets))\n",
    "\n",
    "            for bullet1 in self.bullet1s.copy():\n",
    "                if bullet1.rect.right <=0:\n",
    "                    self.bullet1s.remove(bullet1)\n",
    "            print(len(self.bullet1s))\n"
   ],
   "metadata": {
    "collapsed": false
   }
  }
 ],
 "metadata": {
  "kernelspec": {
   "display_name": "Python 3",
   "language": "python",
   "name": "python3"
  },
  "language_info": {
   "codemirror_mode": {
    "name": "ipython",
    "version": 2
   },
   "file_extension": ".py",
   "mimetype": "text/x-python",
   "name": "python",
   "nbconvert_exporter": "python",
   "pygments_lexer": "ipython2",
   "version": "2.7.6"
  }
 },
 "nbformat": 4,
 "nbformat_minor": 0
}
