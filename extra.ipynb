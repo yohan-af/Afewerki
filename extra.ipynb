{
 "cells": [
  {
   "cell_type": "code",
   "execution_count": null,
   "metadata": {
    "collapsed": true
   },
   "outputs": [],
   "source": [
    "# Full Screen\n",
    "self.screen = pygame.display.set_mode(self.settings.screen_width, self.settings.screen_height)"
   ]
  },
  {
   "cell_type": "code",
   "execution_count": null,
   "outputs": [],
   "source": [],
   "metadata": {
    "collapsed": false
   }
  },
  {
   "cell_type": "code",
   "execution_count": null,
   "outputs": [],
   "source": [
    "self.screen.fill(self.settings.bg_color)"
   ],
   "metadata": {
    "collapsed": false
   }
  },
  {
   "cell_type": "code",
   "execution_count": null,
   "outputs": [],
   "source": [
    "    def _check_events(self):\n",
    "        \"\"\"Respond to keypresses and mouse events.\"\"\"\n",
    "        for event in pygame.event.get():\n",
    "            if event.type == pygame.QUIT:\n",
    "                sys.exit()\n",
    "\n",
    "\n",
    "            # Redraw the screen during each pass through loop\n",
    "            self.screen.fill(self.bg_color)\n",
    "\n",
    "            # Make the most recently drawn screen visible\n",
    "            pygame.display.flip()\n"
   ],
   "metadata": {
    "collapsed": false
   }
  },
  {
   "cell_type": "code",
   "execution_count": null,
   "outputs": [],
   "source": [
    "            # boundries!!!\n",
    "            for bullet in self.bullets.copy():\n",
    "                if bullet.rect.left <=0:\n",
    "                    self.bullets.remove(bullet)\n",
    "            print(len(self.bullets))\n",
    "\n",
    "            for bullet1 in self.bullet1s.copy():\n",
    "                if bullet1.rect.right <=0:\n",
    "                    self.bullet1s.remove(bullet1)\n",
    "            print(len(self.bullet1s))\n"
   ],
   "metadata": {
    "collapsed": false
   }
  },
  {
   "cell_type": "markdown",
   "source": [
    "## duck\n"
   ],
   "metadata": {
    "collapsed": false
   }
  },
  {
   "cell_type": "code",
   "execution_count": null,
   "outputs": [],
   "source": [
    "import pygame\n",
    "from pygame.sprite import Sprite\n",
    "\n",
    "\n",
    "class Duck(Sprite):\n",
    "    \"\"\"A class to represent a single alien in the fleet.\"\"\"\n",
    "\n",
    "    def __init__(self, ai_game):\n",
    "        \"\"\"Initialize the alien and set its starting position.\"\"\"\n",
    "        super().__init__()\n",
    "        self.screen = ai_game.screen\n",
    "        self.settings = ai_game.settings\n",
    "\n",
    "        # Load the alien image and set its rect attribute\n",
    "        self.image = pygame.image.load('images/duck.png')\n",
    "        self.rect = self.image.get_rect()\n",
    "\n",
    "        # Start each new alien near the top left of the screen.\n",
    "        self.rect.x = self.rect.width\n",
    "        self.rect.y = self.rect.height\n",
    "\n",
    "        # Store the alien's exact horizontal position.\n",
    "        self.x = float(self.rect.x)\n",
    "\n",
    "    def check_edges(self):\n",
    "        \"\"\"Return True if alien is at edge of screen\"\"\"\n",
    "        screen_rect = self.screen.get_rect()\n",
    "        if self.rect.right >= screen_rect.right or self.rect.left <= 0:\n",
    "            return True\n",
    "\n",
    "    def update(self):\n",
    "        \"\"\"Move the alien to the right or left.\"\"\"\n",
    "        self.x += (self.settings.alien_speed * self.settings.fleet_direction)\n",
    "        self.rect.x = self.x\n",
    "\n",
    "    def draw_duck(self):\n",
    "        \"\"\"Draw the bullet to the screen.\"\"\"\n",
    "        pygame.draw.rect(self.screen, self.image, self.rect)\n"
   ],
   "metadata": {
    "collapsed": false
   }
  },
  {
   "cell_type": "code",
   "execution_count": null,
   "outputs": [],
   "source": [
    "## full screen\n",
    "  self.screen = pygame.display.set_mode((0,0), pygame.FULLSCREEN)\n",
    "        self.settings.screen_width = self.screen.get_rect().width\n",
    "        self.settings.screen_height = self.screen.get_rect().height"
   ],
   "metadata": {
    "collapsed": false
   }
  }
 ],
 "metadata": {
  "kernelspec": {
   "display_name": "Python 3",
   "language": "python",
   "name": "python3"
  },
  "language_info": {
   "codemirror_mode": {
    "name": "ipython",
    "version": 2
   },
   "file_extension": ".py",
   "mimetype": "text/x-python",
   "name": "python",
   "nbconvert_exporter": "python",
   "pygments_lexer": "ipython2",
   "version": "2.7.6"
  }
 },
 "nbformat": 4,
 "nbformat_minor": 0
}
